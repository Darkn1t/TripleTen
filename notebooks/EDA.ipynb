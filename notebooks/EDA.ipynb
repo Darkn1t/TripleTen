{
 "cells": [
  {
   "cell_type": "code",
   "execution_count": null,
   "id": "ee78a979",
   "metadata": {},
   "outputs": [],
   "source": [
    "import pandas as pd   \n",
    "import ploty.express as px\n",
    "\n",
    "car_data = pd.read_csv('vehicles_us.csv')\n",
    "fig = px.histogram(car_data, x=\"odometer\") \n",
    "fig.show()\n"
   ]
  },
  {
   "cell_type": "code",
   "execution_count": null,
   "id": "08ff58a8",
   "metadata": {},
   "outputs": [],
   "source": [
    "import pandas as pd   \n",
    "import ploty.express as px\n",
    "\n",
    "car_data = pd.read_csv('vehicles_us.csv')\n",
    "fig = px.scatter(car_data, x=\"odometer\", y=\"price\")\n",
    "fig.show()"
   ]
  }
 ],
 "metadata": {
  "language_info": {
   "name": "python"
  }
 },
 "nbformat": 4,
 "nbformat_minor": 5
}
